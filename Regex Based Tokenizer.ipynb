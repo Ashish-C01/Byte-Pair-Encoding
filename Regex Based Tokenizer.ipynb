{
 "cells": [
  {
   "cell_type": "code",
   "execution_count": 1,
   "id": "88c899e0-48fc-4405-8289-d4680c65ed68",
   "metadata": {},
   "outputs": [],
   "source": [
    "import regex as re"
   ]
  },
  {
   "cell_type": "code",
   "execution_count": 2,
   "id": "3141c1f5-21ea-4fac-bfaa-cb66085af9d6",
   "metadata": {},
   "outputs": [],
   "source": [
    "class RegexTokenizer:\n",
    "    def __init__(self):\n",
    "        self.merge={}\n",
    "        self.split_pattern=r\"\"\"'(?i:[sdmt]|ll|ve|re)|[^\\r\\n\\p{L}\\p{N}]?+\\p{L}+|\\p{N}{1,3}| ?[^\\s\\p{L}\\p{N}]++[\\r\\n]*|\\s*[\\r\\n]|\\s+(?!\\S)|\\s+\"\"\"\n",
    "        self.compiled_pattern=re.compile(self.split_pattern)\n",
    "    def getstat(self,tokens,count):\n",
    "        for p0,p1 in zip(tokens[:],tokens[1:]):\n",
    "            count[(p0,p1)]=count.get((p0,p1),0)+1\n",
    "        \n",
    "    def mergepair(self,ids,pair,idx):\n",
    "        new_tokens=[]\n",
    "        i=0\n",
    "        while i<len(ids):\n",
    "            if i<len(ids)-1 and ids[i]==pair[0] and ids[i+1]==pair[1]:\n",
    "                new_tokens.append(idx)\n",
    "                i+=2\n",
    "            else:\n",
    "                new_tokens.append(ids[i])\n",
    "                i+=1\n",
    "        return new_tokens\n",
    "        \n",
    "    def train(self,text,vocab_size,verbose=False):\n",
    "        if vocab_size>=256:\n",
    "            word_chunks=re.findall(self.compiled_pattern,text)\n",
    "            tokens=[list(ch.encode('utf-8')) for ch in word_chunks]\n",
    "            for i in range(vocab_size-256):\n",
    "                count={}\n",
    "                for j in tokens:\n",
    "                    self.getstat(j,count)\n",
    "                if len(count):\n",
    "                    maxpair=max(count,key=count.get)\n",
    "                    tokens=[self.mergepair(t,maxpair,256+i) for t in tokens]\n",
    "                    self.merge[maxpair]=256+i\n",
    "                    if verbose:\n",
    "                        print(f\"Pair {maxpair} merged into {256+i}\")\n",
    "            vocab={k:bytes([k]) for k in range(256)}\n",
    "            for k,v in self.merge.items():\n",
    "                vocab[v]=vocab[k[0]]+vocab[k[1]]\n",
    "            self.vocab=vocab\n",
    "        else:\n",
    "            print(\"The vocab size should be greater than or equal to 256\")\n",
    "\n",
    "    def encode(self,text):\n",
    "        encoded_tokens=[]\n",
    "        word_chunks=re.findall(self.compiled_pattern,text)\n",
    "        for i in word_chunks:\n",
    "            tokens=list(i.encode('utf-8'))\n",
    "            count={}\n",
    "            while(len(tokens)>=2): \n",
    "                self.getstat(i,count)\n",
    "                min_index_pair=min(count,key=lambda x:self.merge.get(x,float('inf')))\n",
    "                if min_index_pair not in self.merge:\n",
    "                    break\n",
    "                tokens=self.mergepair(tokens,min_index_pair,self.merge[min_index_pair])\n",
    "            encoded_tokens.append(tokens)\n",
    "        return encoded_tokens\n",
    "\n",
    "    def decode(self,ids):\n",
    "        text=b\"\".join(self.vocab[j] for x in ids for j in x)\n",
    "        text=text.decode('utf-8',errors='replace')\n",
    "        return text\n",
    "\n",
    "    def show_merge_values(self):\n",
    "        for k,v in self.merge.items():\n",
    "            print(f'{k}:{self.vocab[v].decode(\"utf-8\",errors=\"replace\")}')"
   ]
  },
  {
   "cell_type": "code",
   "execution_count": 3,
   "id": "c31a6d68-024e-4596-8f75-e01559af03b4",
   "metadata": {},
   "outputs": [],
   "source": [
    "with open('taylorswift_wikipedia.txt','r') as f:\n",
    "    text=f.read()"
   ]
  },
  {
   "cell_type": "code",
   "execution_count": 4,
   "id": "f023c50e-5e36-4aec-9383-47db67b9bd6f",
   "metadata": {},
   "outputs": [
    {
     "name": "stdout",
     "output_type": "stream",
     "text": [
      "Pair (101, 114) merged into 256\n",
      "Pair (50, 48) merged into 257\n",
      "Pair (111, 114) merged into 258\n",
      "Pair (105, 110) merged into 259\n",
      "Pair (101, 100) merged into 260\n",
      "Pair (32, 116) merged into 261\n",
      "Pair (111, 110) merged into 262\n",
      "Pair (104, 101) merged into 263\n",
      "Pair (32, 83) merged into 264\n",
      "Pair (97, 114) merged into 265\n",
      "Pair (97, 110) merged into 266\n",
      "Pair (32, 65) merged into 267\n",
      "Pair (261, 263) merged into 268\n",
      "Pair (97, 108) merged into 269\n",
      "Pair (114, 105) merged into 270\n",
      "Pair (118, 260) merged into 271\n",
      "Pair (115, 116) merged into 272\n",
      "Pair (119, 105) merged into 273\n",
      "Pair (32, 82) merged into 274\n",
      "Pair (257, 49) merged into 275\n",
      "Pair (32, 102) merged into 276\n",
      "Pair (257, 50) merged into 277\n",
      "Pair (32, 84) merged into 278\n",
      "Pair (102, 116) merged into 279\n",
      "Pair (97, 121) merged into 280\n",
      "Pair (32, 34) merged into 281\n",
      "Pair (273, 279) merged into 282\n",
      "Pair (101, 116) merged into 283\n",
      "Pair (264, 282) merged into 284\n",
      "Pair (99, 104) merged into 285\n",
      "Pair (98, 256) merged into 286\n",
      "Pair (97, 116) merged into 287\n",
      "Pair (111, 109) merged into 288\n",
      "Pair (101, 115) merged into 289\n",
      "Pair (101, 110) merged into 290\n",
      "Pair (101, 109) merged into 291\n",
      "Pair (34, 46) merged into 292\n",
      "Pair (32, 40) merged into 293\n",
      "Pair (46, 10) merged into 294\n",
      "Pair (259, 103) merged into 295\n",
      "Pair (108, 258) merged into 296\n",
      "Pair (32, 77) merged into 297\n",
      "Pair (105, 103) merged into 298\n",
      "Pair (32, 262) merged into 299\n"
     ]
    }
   ],
   "source": [
    "tokenizer=RegexTokenizer()\n",
    "tokenizer.train(text,vocab_size=300,verbose=True)"
   ]
  },
  {
   "cell_type": "code",
   "execution_count": 5,
   "id": "ed581c38-c561-482d-9521-2ee4937bd0bf",
   "metadata": {},
   "outputs": [
    {
     "name": "stdout",
     "output_type": "stream",
     "text": [
      "[[72, 101, 108, 108, 111], [32, 104, 111, 119], [32, 97, 114, 101], [32, 121, 111, 117]]\n"
     ]
    }
   ],
   "source": [
    "encoded_values=tokenizer.encode(\"Hello how are you\")\n",
    "print(encoded_values)"
   ]
  },
  {
   "cell_type": "code",
   "execution_count": 6,
   "id": "ccfb8f03-33c4-4b5e-a868-c869608f5091",
   "metadata": {},
   "outputs": [
    {
     "data": {
      "text/plain": [
       "'Hello how are you'"
      ]
     },
     "execution_count": 6,
     "metadata": {},
     "output_type": "execute_result"
    }
   ],
   "source": [
    "tokenizer.decode(encoded_values)"
   ]
  },
  {
   "cell_type": "code",
   "execution_count": 7,
   "id": "55051e75-472f-4234-b3dc-c97fb69334bc",
   "metadata": {},
   "outputs": [
    {
     "name": "stdout",
     "output_type": "stream",
     "text": [
      "True\n"
     ]
    }
   ],
   "source": [
    "text1=\"hello world!!!? (안녕하세요!) lol123 😉\"\n",
    "text2=tokenizer.decode(tokenizer.encode(text1))\n",
    "print(text1==text2)"
   ]
  },
  {
   "cell_type": "code",
   "execution_count": 8,
   "id": "c6dc68b3-0f4f-45eb-98c2-38831ced6421",
   "metadata": {},
   "outputs": [
    {
     "name": "stdout",
     "output_type": "stream",
     "text": [
      "(101, 114):er\n",
      "(50, 48):20\n",
      "(111, 114):or\n",
      "(105, 110):in\n",
      "(101, 100):ed\n",
      "(32, 116): t\n",
      "(111, 110):on\n",
      "(104, 101):he\n",
      "(32, 83): S\n",
      "(97, 114):ar\n",
      "(97, 110):an\n",
      "(32, 65): A\n",
      "(261, 263): the\n",
      "(97, 108):al\n",
      "(114, 105):ri\n",
      "(118, 260):ved\n",
      "(115, 116):st\n",
      "(119, 105):wi\n",
      "(32, 82): R\n",
      "(257, 49):201\n",
      "(32, 102): f\n",
      "(257, 50):202\n",
      "(32, 84): T\n",
      "(102, 116):ft\n",
      "(97, 121):ay\n",
      "(32, 34): \"\n",
      "(273, 279):wift\n",
      "(101, 116):et\n",
      "(264, 282): Swift\n",
      "(99, 104):ch\n",
      "(98, 256):ber\n",
      "(97, 116):at\n",
      "(111, 109):om\n",
      "(101, 115):es\n",
      "(101, 110):en\n",
      "(101, 109):em\n",
      "(34, 46):\".\n",
      "(32, 40): (\n",
      "(46, 10):.\n",
      "\n",
      "(259, 103):ing\n",
      "(108, 258):lor\n",
      "(32, 77): M\n",
      "(105, 103):ig\n",
      "(32, 262): on\n"
     ]
    }
   ],
   "source": [
    "tokenizer.show_merge_values()"
   ]
  }
 ],
 "metadata": {
  "kernelspec": {
   "display_name": "Python 3 (ipykernel)",
   "language": "python",
   "name": "python3"
  },
  "language_info": {
   "codemirror_mode": {
    "name": "ipython",
    "version": 3
   },
   "file_extension": ".py",
   "mimetype": "text/x-python",
   "name": "python",
   "nbconvert_exporter": "python",
   "pygments_lexer": "ipython3",
   "version": "3.10.10"
  }
 },
 "nbformat": 4,
 "nbformat_minor": 5
}
